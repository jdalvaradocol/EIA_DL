{
  "nbformat": 4,
  "nbformat_minor": 0,
  "metadata": {
    "colab": {
      "provenance": [],
      "authorship_tag": "ABX9TyNnwPsDpbCdNmRPPODMXFxZ",
      "include_colab_link": true
    },
    "kernelspec": {
      "name": "python3",
      "display_name": "Python 3"
    },
    "language_info": {
      "name": "python"
    }
  },
  "cells": [
    {
      "cell_type": "markdown",
      "metadata": {
        "id": "view-in-github",
        "colab_type": "text"
      },
      "source": [
        "<a href=\"https://colab.research.google.com/github/jdalvaradocol/EIA_DL/blob/main/Clase2ej1.ipynb\" target=\"_parent\"><img src=\"https://colab.research.google.com/assets/colab-badge.svg\" alt=\"Open In Colab\"/></a>"
      ]
    },
    {
      "cell_type": "code",
      "execution_count": null,
      "metadata": {
        "colab": {
          "base_uri": "https://localhost:8080/"
        },
        "id": "aNHUXoA_eljy",
        "outputId": "10dbefb7-fd4d-47c0-a678-7315ccf51c6c"
      },
      "outputs": [
        {
          "output_type": "stream",
          "name": "stdout",
          "text": [
            "\n",
            " X \n",
            " [1 0 0]\n",
            "\n",
            " W \n",
            " [1 1 1]\n",
            "\n",
            " y \n",
            " 1\n",
            "No asistiremos a cine\n"
          ]
        }
      ],
      "source": [
        "\n",
        "import numpy as np\n",
        "\n",
        "def funcion_activacion(entrada)\n",
        "\n",
        "    size = len(entrada)\n",
        "\n",
        "    salida = np.zeros((size,1))\n",
        "\n",
        "    for i in range(size)\n",
        "\n",
        "        if entrada[i,0] >= 0\n",
        "\n",
        "          salida[i,0] = 1\n",
        "\n",
        "    return salida\n",
        "## Entradas x1 x2 x3\n",
        "\n",
        "x1 = 1\n",
        "x2 = 0\n",
        "x3 = 0\n",
        "\n",
        "umbral = 3\n",
        "\n",
        "W = np.array([1 , 1 , 1])\n",
        "\n",
        "X = np.array([x1 , x2 , x3])\n",
        "\n",
        "print('\\n X \\n',X)\n",
        "print('\\n W \\n',W)\n",
        "\n",
        "y = np.dot(np.transpose(W),X)\n",
        "\n",
        "print('\\n y \\n',y)\n",
        "\n",
        "if (y >= umbral):\n",
        "    print('Asistiremos a cine')\n",
        "else:\n",
        "    print('No asistiremos a cine')\n"
      ]
    },
    {
      "cell_type": "code",
      "source": [
        "# Clasificador de la compuerta OR\n",
        "\n",
        "bias = 1\n",
        "x1 = 0\n",
        "x2 = 0\n",
        "\n",
        "X = np.array([[bias],[x1],[x2]])\n",
        "\n",
        "print('\\n X \\n',X)\n",
        "\n",
        "WOR   = np.array([[-0.5],[ 1],[ 1]])\n",
        "WNAND = np.array([[ 1.5],[-1],[-1]])\n",
        "WAND  = np.array([[-1.5],[ 1],[ 1]])\n",
        "\n",
        "W1 = np.zeros((3,2))\n",
        "\n",
        "W1[:,0] = WOR[:,0]\n",
        "W1[:,1] = WNAND[:,0]\n",
        "\n",
        "print('\\n W1 \\n',W1)\n",
        "\n",
        "W2 = WAND\n",
        "print('\\n W2 \\n',W2)"
      ],
      "metadata": {
        "colab": {
          "base_uri": "https://localhost:8080/"
        },
        "id": "EFqylGluqcon",
        "outputId": "f8c05fef-56ff-4120-8fb6-f77899464559"
      },
      "execution_count": 17,
      "outputs": [
        {
          "output_type": "stream",
          "name": "stdout",
          "text": [
            "\n",
            " X \n",
            " [[1]\n",
            " [0]\n",
            " [0]]\n",
            "\n",
            " W1 \n",
            " [[-0.5  1.5]\n",
            " [ 1.  -1. ]\n",
            " [ 1.  -1. ]]\n",
            "\n",
            " W2 \n",
            " [[-1.5]\n",
            " [ 1. ]\n",
            " [ 1. ]]\n"
          ]
        }
      ]
    },
    {
      "cell_type": "code",
      "source": [
        "y1 = np.dot(np.transpose(W1),X)\n",
        "print('\\n y1 \\n',y1)"
      ],
      "metadata": {
        "colab": {
          "base_uri": "https://localhost:8080/"
        },
        "id": "yslepPtNsdq5",
        "outputId": "7330bb05-b2c6-42e4-bc6d-658061219319"
      },
      "execution_count": 19,
      "outputs": [
        {
          "output_type": "stream",
          "name": "stdout",
          "text": [
            "\n",
            " y1 \n",
            " [[-0.5]\n",
            " [ 1.5]]\n"
          ]
        }
      ]
    },
    {
      "cell_type": "code",
      "source": [
        "# funcion de activacion\n",
        "\n"
      ],
      "metadata": {
        "id": "xVSlrWz6s8xc"
      },
      "execution_count": null,
      "outputs": []
    }
  ]
}