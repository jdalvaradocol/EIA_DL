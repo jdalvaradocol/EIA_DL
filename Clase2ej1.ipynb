{
  "nbformat": 4,
  "nbformat_minor": 0,
  "metadata": {
    "colab": {
      "provenance": [],
      "authorship_tag": "ABX9TyPUKgW3wPuC8ZtiA1zdoQLK",
      "include_colab_link": true
    },
    "kernelspec": {
      "name": "python3",
      "display_name": "Python 3"
    },
    "language_info": {
      "name": "python"
    }
  },
  "cells": [
    {
      "cell_type": "markdown",
      "metadata": {
        "id": "view-in-github",
        "colab_type": "text"
      },
      "source": [
        "<a href=\"https://colab.research.google.com/github/jdalvaradocol/EIA_DL/blob/main/Clase2ej1.ipynb\" target=\"_parent\"><img src=\"https://colab.research.google.com/assets/colab-badge.svg\" alt=\"Open In Colab\"/></a>"
      ]
    },
    {
      "cell_type": "code",
      "execution_count": 69,
      "metadata": {
        "colab": {
          "base_uri": "https://localhost:8080/"
        },
        "id": "aNHUXoA_eljy",
        "outputId": "e0b00628-a9ff-40f0-c479-21d962725e69"
      },
      "outputs": [
        {
          "output_type": "stream",
          "name": "stdout",
          "text": [
            "\n",
            " X \n",
            " [1 0 1]\n",
            "\n",
            " W \n",
            " [1 1 1]\n",
            "\n",
            " y \n",
            " 2\n",
            "No asistiremos a cine\n"
          ]
        }
      ],
      "source": [
        "\n",
        "import numpy as np\n",
        "\n",
        "def funcion_activacion(entrada):\n",
        "\n",
        "    size = len(entrada)\n",
        "\n",
        "    salida = np.zeros((size,1))\n",
        "\n",
        "    for i in range(size):\n",
        "\n",
        "        if (entrada[i,0] >= 0):\n",
        "\n",
        "          salida[i,0] = 1\n",
        "\n",
        "    return salida\n",
        "## Entradas x1 x2 x3\n",
        "\n",
        "x1 = 1\n",
        "x2 = 0\n",
        "x3 = 1\n",
        "\n",
        "umbral = 3\n",
        "\n",
        "W = np.array([1 , 1 , 1])\n",
        "\n",
        "X = np.array([x1 , x2 , x3])\n",
        "\n",
        "print('\\n X \\n',X)\n",
        "print('\\n W \\n',W)\n",
        "\n",
        "y = np.dot(np.transpose(W),X)\n",
        "\n",
        "print('\\n y \\n',y)\n",
        "\n",
        "if (y >= umbral):\n",
        "    print('Asistiremos a cine')\n",
        "else:\n",
        "    print('No asistiremos a cine')\n"
      ]
    },
    {
      "cell_type": "markdown",
      "source": [
        "# tabla de verdad de la compuerta XOR\n",
        "\n",
        "|A|B|X|\n",
        "|-|-|-|\n",
        "|0|0|0|\n",
        "|0|1|1|\n",
        "|1|0|1|\n",
        "|1|1|0|\n"
      ],
      "metadata": {
        "id": "UsdmSIQtxYoK"
      }
    },
    {
      "cell_type": "code",
      "source": [
        "# Clasificador de la compuerta XOR\n",
        "\n",
        "bias = 1\n",
        "x1 = 1\n",
        "x2 = 1\n",
        "\n",
        "X = np.array([[bias],[x1],[x2]])\n",
        "\n",
        "print('\\n X \\n',X)\n",
        "\n",
        "WOR   = np.array([[-0.5],[ 1],[ 1]])\n",
        "WNAND = np.array([[ 1.5],[-1],[-1]])\n",
        "WAND  = np.array([[-1.5],[ 1],[ 1]])\n",
        "\n",
        "W1 = np.zeros((3,2))\n",
        "\n",
        "W1[:,0] = WOR[:,0]\n",
        "W1[:,1] = WNAND[:,0]\n",
        "\n",
        "print('\\n W1 \\n',W1)\n",
        "\n",
        "W2 = WAND\n",
        "print('\\n W2 \\n',W2)"
      ],
      "metadata": {
        "colab": {
          "base_uri": "https://localhost:8080/"
        },
        "id": "EFqylGluqcon",
        "outputId": "9f23c030-2153-42d9-9f93-4135f7b274ad"
      },
      "execution_count": 70,
      "outputs": [
        {
          "output_type": "stream",
          "name": "stdout",
          "text": [
            "\n",
            " X \n",
            " [[1]\n",
            " [1]\n",
            " [1]]\n",
            "\n",
            " W1 \n",
            " [[-0.5  1.5]\n",
            " [ 1.  -1. ]\n",
            " [ 1.  -1. ]]\n",
            "\n",
            " W2 \n",
            " [[-1.5]\n",
            " [ 1. ]\n",
            " [ 1. ]]\n"
          ]
        }
      ]
    },
    {
      "cell_type": "code",
      "source": [
        "y1 = np.dot(np.transpose(W1),X)\n",
        "print('\\n y1 \\n',y1)"
      ],
      "metadata": {
        "colab": {
          "base_uri": "https://localhost:8080/"
        },
        "id": "yslepPtNsdq5",
        "outputId": "72ebe4b4-dc94-43b0-b85d-35664ff6c2e3"
      },
      "execution_count": 71,
      "outputs": [
        {
          "output_type": "stream",
          "name": "stdout",
          "text": [
            "\n",
            " y1 \n",
            " [[ 1.5]\n",
            " [-0.5]]\n"
          ]
        }
      ]
    },
    {
      "cell_type": "code",
      "source": [
        "# funcion de activacion\n",
        "\n",
        "f1 = funcion_activacion(y1)\n",
        "print('\\n f1 \\n',f1)\n"
      ],
      "metadata": {
        "colab": {
          "base_uri": "https://localhost:8080/"
        },
        "id": "xVSlrWz6s8xc",
        "outputId": "4b5e5466-ca5b-47ee-823c-814134041fb9"
      },
      "execution_count": 72,
      "outputs": [
        {
          "output_type": "stream",
          "name": "stdout",
          "text": [
            "\n",
            " f1 \n",
            " [[1.]\n",
            " [0.]]\n"
          ]
        }
      ]
    },
    {
      "cell_type": "code",
      "source": [
        "\n",
        "Xi = np.array([[bias],[f1[0,0]],[f1[1,0]]])\n",
        "y2 = np.dot(np.transpose(W2),Xi)\n",
        "print('\\n y2 \\n',y2)\n",
        "f = funcion_activacion(y2)\n",
        "print('\\n Salida de la red neuronal \\n',f[0,0])"
      ],
      "metadata": {
        "colab": {
          "base_uri": "https://localhost:8080/"
        },
        "id": "2s1FSvYSwckU",
        "outputId": "d395379c-faf9-4c26-9c2e-8f5f552d3ba1"
      },
      "execution_count": 73,
      "outputs": [
        {
          "output_type": "stream",
          "name": "stdout",
          "text": [
            "\n",
            " y2 \n",
            " [[-0.5]]\n",
            "\n",
            " Salida de la red neuronal \n",
            " 0.0\n"
          ]
        }
      ]
    }
  ]
}